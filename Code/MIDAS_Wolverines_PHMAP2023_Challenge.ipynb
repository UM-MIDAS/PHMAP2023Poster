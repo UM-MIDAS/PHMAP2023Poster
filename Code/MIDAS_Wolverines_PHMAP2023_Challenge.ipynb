{
 "cells": [
  {
   "cell_type": "code",
   "execution_count": 1,
   "id": "f4a42702",
   "metadata": {},
   "outputs": [],
   "source": [
    "##############################################################################\n",
    "# File:                 MIDAS_Wolverines_PHMAP2023_Challenge\n",
    "# Author:               Joseph Cohen\n",
    "# Contact:              cohenyo@umich.edu\n",
    "# Date executed:        August 30, 2023\n",
    "#\n",
    "# Description:  \n",
    "#   - This is the code associated with the PHM Asia-Pacific 2023 Data Challenge and poster.\n",
    "#\n",
    "# Data Inputs:\n",
    "#   - labels.csv\n",
    "#   - Case1.csv through Case177.csv (training)\n",
    "#   - Case178.csv through Case223.csv (testing)\n",
    "#\n",
    "# Methods:\n",
    "#   - Approach uses sparse models (LASSO, L1-penalized Logistic Regression) + wavelet features\n",
    "#   - Resulted in a high score of 92.98% and 8th place in the international competition\n",
    "#\n",
    "# Operating System:\n",
    "#   - Windows or Mac\n",
    "#\n",
    "# Software Version:\n",
    "#   - Python 3.10.9\n",
    "#\n",
    "# Libraries/Dependencies: \n",
    "#   - pandas: Version 1.4.2\n",
    "#   - numpy: Version 1.23.5\n",
    "#   - matplotlib: Version 3.7.1\n",
    "#   - seaborn: Version 0.11.2\n",
    "#   - scikit-learn: Version 1.2.1\n",
    "#   - pywavelets: Version 1.4.1\n",
    "#   - xgboost: Version 1.7.4\n",
    "#\n",
    "##############################################################################"
   ]
  },
  {
   "cell_type": "markdown",
   "id": "dd372ce1",
   "metadata": {},
   "source": [
    "# Import Libraries"
   ]
  },
  {
   "cell_type": "code",
   "execution_count": 2,
   "id": "e33ed692",
   "metadata": {},
   "outputs": [],
   "source": [
    "import pandas as pd\n",
    "import numpy as np\n",
    "import matplotlib as mpl\n",
    "import matplotlib.pyplot as plt\n",
    "import seaborn as sns\n",
    "import warnings\n",
    "warnings.filterwarnings(\"ignore\")\n",
    "warnings.filterwarnings(\"ignore\", category=UserWarning, message=\".*findfont: Font family*\")\n",
    "\n",
    "# Data Preprocessing\n",
    "from sklearn.preprocessing import StandardScaler, MinMaxScaler\n",
    "from pywt import Wavelet, wavedec, dwt_max_level\n",
    "\n",
    "# Dimensionality Reduction\n",
    "from sklearn.decomposition import PCA\n",
    "\n",
    "# Classification Models\n",
    "from sklearn.ensemble import RandomForestClassifier, GradientBoostingClassifier\n",
    "from sklearn.linear_model import LogisticRegression, LogisticRegressionCV\n",
    "from sklearn.svm import SVC\n",
    "from sklearn.tree import DecisionTreeClassifier\n",
    "from sklearn.neighbors import KNeighborsClassifier\n",
    "from sklearn.naive_bayes import GaussianNB\n",
    "from sklearn.neural_network import MLPClassifier\n",
    "from xgboost import XGBClassifier\n",
    "\n",
    "# Regression Models\n",
    "from sklearn.ensemble import RandomForestRegressor, GradientBoostingRegressor\n",
    "from xgboost import XGBRegressor\n",
    "from sklearn.linear_model import Lasso, RidgeCV, LassoCV, LassoLarsCV, MultiTaskLassoCV\n",
    "from sklearn.neural_network import MLPRegressor\n",
    "from sklearn.gaussian_process import GaussianProcessRegressor\n",
    "\n",
    "# Model Selection and Evaluation\n",
    "from sklearn.model_selection import train_test_split, GridSearchCV\n",
    "from sklearn.metrics import classification_report, accuracy_score"
   ]
  },
  {
   "cell_type": "markdown",
   "id": "2254ca04",
   "metadata": {},
   "source": [
    "# Import Data, Pre-Process, and Run Benchmarks"
   ]
  },
  {
   "cell_type": "code",
   "execution_count": 3,
   "id": "fdfbdd03",
   "metadata": {},
   "outputs": [],
   "source": [
    "# Load data\n",
    "x_train = np.transpose(np.load(\"../dataset/train/data_array.npy\"), axes=[0,2,1])\n",
    "x_test = np.transpose(np.load(\"../dataset/test/data_array.npy\"), axes=[0,2,1])\n",
    "\n",
    "# Load labels\n",
    "labels = pd.read_csv(\"../dataset/train/labels.csv\")\n",
    "\n",
    "# Map condition values to their corresponding numerical representation\n",
    "condition_mapping = {'Normal': 0, 'Fault': 1, 'Anomaly': 2}\n",
    "location_mapping = {'No': 0, 'Yes': 1}\n",
    "labels['Condition'] = labels['Condition'].map(condition_mapping)\n",
    "y = labels['Condition'].values"
   ]
  },
  {
   "cell_type": "markdown",
   "id": "99325c7d",
   "metadata": {},
   "source": [
    "## Segment Dataset (3 Samples / Signal)\n",
    "As seen in the picture below, the pressure signals can be broken into 3 open/close cycles. Let's consider breaking each sample into 0.4 second chunks (400 timesteps under the 1 kHz sampling rate). We will be assuming that the labels for these samples are the same for all \"chunks\", effectively tripling the size of our dataset."
   ]
  },
  {
   "attachments": {
    "figure2-1024x470.jpg": {
     "image/jpeg": "[encoded data removed]"
    }
   },
   "cell_type": "markdown",
   "id": "476c64b1",
   "metadata": {},
   "source": [
    "![figure2-1024x470.jpg](attachment:figure2-1024x470.jpg)"
   ]
  },
  {
   "cell_type": "code",
   "execution_count": 4,
   "id": "1e5ce8b2",
   "metadata": {},
   "outputs": [],
   "source": [
    "# Assuming all labels are carried over per chunk, triple the labels dataframe\n",
    "\n",
    "triple_labels = pd.DataFrame(np.repeat(labels.values, 3, axis=0))\n",
    "triple_labels.columns = labels.columns\n",
    "\n",
    "y_repeated = np.repeat(y, 3)\n",
    "\n",
    "# Break into 3 segments for each signal in training set\n",
    "segments = []\n",
    "for signal in x_train:\n",
    "    for start_time in [0, 400, 800]:\n",
    "        segment = signal[start_time : start_time + 400, :]\n",
    "        segments.append(segment)\n",
    "\n",
    "x_train_segmented = np.array(segments)\n",
    "\n",
    "# Break into 3 segments for each signal in testing set\n",
    "segments = []\n",
    "for signal in x_test:\n",
    "    for start_time in [0, 400, 800]:\n",
    "        segment = signal[start_time : start_time + 400, :]\n",
    "        segments.append(segment)\n",
    "        \n",
    "x_test_segmented = np.array(segments)"
   ]
  },
  {
   "cell_type": "markdown",
   "id": "0bf6a6f2",
   "metadata": {},
   "source": [
    "## Perform discrete wavelet transform (DWT) with the db1 (Haar) wavelet\n",
    "Below, we will flatten all pressure signals into a single (noisier) signal, and use the Haar wavelet for a multilevel decomposition using PyWavelets. In discrete wavelet transform, the \"energy\" of the high-frequency components are returned in the detail coefficients (CD), whereas the low-frequency content is stored in the approximation coefficients (CA). We will do a full decomposition of 11 levels and concatenate the wavelet coefficients together, which are returned in a list that looks like this:\n",
    "\n",
    "$$\\begin{bmatrix}\n",
    "CA_{11} & CD_{11} & CD_{10} & CD_9 & CD_8 & CD_7 & CD_6 & CD_5 & CD_4 & CD_3 & CD_2 & CD_1\n",
    "\\end{bmatrix}$$\n",
    "\n",
    "The coefficients relate to each of the frequency sub-bands as follows:\n",
    "\n",
    "$$\\begin{align*}\n",
    "CD_N: \\left[\\dfrac{F_s}{2^{N+1}}, 2\\dfrac{F_s}{2^{N+1}} \\right)\\\\\n",
    "CA_N: \\left[0, \\dfrac{F_s}{2^{N+1}} \\right)\n",
    "\\end{align*}$$\n",
    "\n",
    "- $CD_1$: [250 Hz, 500 Hz)\n",
    "- $CD_2$: [125 Hz, 250 Hz)\n",
    "- $CD_3$: [62.5 Hz, 125 Hz) \n",
    "- $CD_4$: [31.25 Hz, 62.5 Hz)\n",
    "- $CD_5$: [15.625 Hz, 31.25 Hz)\n",
    "- $CD_6$: [7.8125 Hz, 15.625 Hz)\n",
    "- $CD_7$: [3.90625 Hz, 7.8125 Hz)\n",
    "- $CD_8$: [1.953 Hz, 3.90625 Hz)\n",
    "- $CD_9$: [0.9766 Hz, 1.953 Hz)\n",
    "- $CD_{10}$: [0.488 Hz, 0.9766 Hz)\n",
    "- $CD_{11}$: [0.244 Hz, 0.488 Hz)\n",
    "- $CA_{11}$: [0 Hz, 0.244 Hz)"
   ]
  },
  {
   "cell_type": "code",
   "execution_count": 5,
   "id": "1377b449",
   "metadata": {},
   "outputs": [],
   "source": [
    "# Flatten all 7 pressure signals and perform DWT for training and testing\n",
    "x_train_reshaped = x_train_segmented.reshape(len(x_train_segmented), -1)\n",
    "x_train_dwt = np.concatenate(wavedec(x_train_reshaped, 'db1')[:12], axis=-1)\n",
    "\n",
    "x_test_reshaped = x_test_segmented.reshape(len(x_test_segmented), -1)\n",
    "x_test_dwt = np.concatenate(wavedec(x_test_reshaped, 'db1')[:12], axis=-1)"
   ]
  },
  {
   "cell_type": "markdown",
   "id": "8a64626b",
   "metadata": {},
   "source": [
    "## Violin Plots of DWT Coefficients\n",
    "We will make some violin plots to illustrate how the DWT coefficients look like for the 3 major classes in the training set (normal, solenoid valve faults, and bubble faults)."
   ]
  },
  {
   "cell_type": "code",
   "execution_count": 6,
   "id": "08bbbc02",
   "metadata": {},
   "outputs": [
    {
     "data": {
      "image/png": "[encoded data removed]",
      "text/plain": [
       "<Figure size 640x480 with 1 Axes>"
      ]
     },
     "metadata": {},
     "output_type": "display_data"
    }
   ],
   "source": [
    "mpl.style.use('tableau-colorblind10')\n",
    "\n",
    "mpl.rcParams.update({'lines.linewidth':2,\n",
    "                     'lines.markersize':10,\n",
    "                     'lines.markeredgewidth':1.0,\n",
    "                     'axes.labelsize':16,\n",
    "                     'axes.titlesize':16,\n",
    "                     'legend.fontsize':14,\n",
    "                     'legend.numpoints':1,\n",
    "                     'lines.markersize':10,\n",
    "                     'xtick.labelsize':'large',\n",
    "                     'xtick.major.size':3.0,\n",
    "                     'xtick.minor.size':4.0,\n",
    "                     'xtick.major.width':2,\n",
    "                     'xtick.minor.width':1.5,\n",
    "                     'ytick.labelsize':'large',\n",
    "                     'ytick.major.size':3.0,\n",
    "                     'ytick.major.width':2,\n",
    "                     'font.size': 12,\n",
    "                     #'font.family':'Helvetica'\n",
    "                    })\n",
    "\n",
    "\n",
    "# Aggregating DWT coefficient data for three subgroups: normal, SV faults, bubble faults\n",
    "# Labels are referencing indices from labels.csv (tripled due to our earlier pre-processing)\n",
    "# First 105 are normal, next 48 are SV faults, last 24 are bubble anomalies\n",
    "normal_coeffs = np.var(x_train_dwt[:105*3, :], axis=1)\n",
    "sv_coeffs = np.var(x_train_dwt[105*3:153*3, :], axis=1)\n",
    "bubble_coeffs = np.var(x_train_dwt[153*3:, :], axis=1)\n",
    "\n",
    "# Combine the data into a list\n",
    "violin_data = [normal_coeffs, sv_coeffs, bubble_coeffs]\n",
    "\n",
    "# Set the labels for the examples\n",
    "violin_labels = ['Normal', 'SV Faults', 'Bubble Faults']\n",
    "\n",
    "# Create a violin plot\n",
    "color_palette = sns.color_palette(\"colorblind\", n_colors=len(violin_data))\n",
    "\n",
    "fig, ax = plt.subplots()\n",
    "\n",
    "# Create a violin plot with distinct colors\n",
    "violins = ax.violinplot(violin_data, showmedians=True, showextrema=True, positions=np.arange(1, len(violin_data) + 1))\n",
    "\n",
    "# Customize the colors\n",
    "for pc, color in zip(violins['bodies'], color_palette):\n",
    "    pc.set_facecolor(color)\n",
    "    pc.set_edgecolor('black')\n",
    "    pc.set_alpha(0.5)\n",
    "    \n",
    "for partname in ('cbars','cmins','cmaxes','cmedians'):\n",
    "    vp = violins[partname]\n",
    "    vp.set_edgecolor('navy')\n",
    "    vp.set_linewidth(1)\n",
    "    vp.set_alpha(0.4)\n",
    "\n",
    "# Customize the plot\n",
    "ax.set_xticks(np.arange(1, len(violin_labels) + 1), violin_labels)\n",
    "ax.set_ylabel('Variance of db1 Coefficients')\n",
    "\n",
    "plt.tight_layout()\n",
    "plt.show()\n"
   ]
  },
  {
   "cell_type": "markdown",
   "id": "939bfa15",
   "metadata": {},
   "source": [
    "## Benchmarking 3-Class Classification\n",
    "The following algorithms will be compared on the training set for 3-class classification:\n",
    "- Random Forest\n",
    "- XGBoost \n",
    "- Logistic Regression\n",
    "- Support Vector Machine\n",
    "- Decision Tree \n",
    "- Gradient Boosting \n",
    "- k-Nearest Neighbors\n",
    "- Naive Bayes\n",
    "- Artificial Neural Network\n",
    "\n",
    "We can choose to execute these tasks out-of-distribution (e.g., using data from Spacecraft 2 and 3 to predict Spacecraft 1, which is representative of half of the testing set). This can give us an idea of how well the models generalize for unseen data sampled from a different distribution. If out_of_distribution is False, then we mix all the data and do a randomized hold-out validation set (85%-15% training-validation split). Note: ignore any warning messages on convergence, this tends to happen for logistic regression when the number of iterations is kept to its default setting."
   ]
  },
  {
   "cell_type": "code",
   "execution_count": 7,
   "id": "fd61925d",
   "metadata": {},
   "outputs": [],
   "source": [
    "# Standardize feature set for machine learning classification\n",
    "stdscaler = StandardScaler()\n",
    "x_train_features_std = stdscaler.fit_transform(x_train_dwt)\n",
    "x_test_features_std = stdscaler.transform(x_test_dwt)"
   ]
  },
  {
   "cell_type": "code",
   "execution_count": null,
   "id": "990849bc",
   "metadata": {},
   "outputs": [],
   "source": [
    "# (name, CodeName, params)\n",
    "models = [(\"Random Forest\",RandomForestClassifier, {} ),\n",
    "          (\"XGBoost\", XGBClassifier, {}),\n",
    "          (\"LogisticRegression\", LogisticRegression,{}),\n",
    "          (\"SVM\", SVC,{}),\n",
    "          (\"Decision Tree\", DecisionTreeClassifier,{}),\n",
    "          (\"Gradient boosting\", GradientBoostingClassifier,{}),\n",
    "          (\"k-Nearest Neighbors\", KNeighborsClassifier,{}),\n",
    "          (\"Naive Bayes\", GaussianNB, {}),\n",
    "          (\"Neural Net\", MLPClassifier, {}),\n",
    "          ]\n",
    "\n",
    "do_out_of_distribution = True\n",
    "\n",
    "if do_out_of_distribution:\n",
    "    train_idx = triple_labels['Spacecraft#'] != 1\n",
    "    test_idx = triple_labels['Spacecraft#'] == 1\n",
    "\n",
    "    X_train = x_train_features_std[train_idx,:]\n",
    "    y_train = y_repeated[train_idx] \n",
    "    X_test = x_train_features_std[test_idx,:]\n",
    "    y_test = y_repeated[test_idx]\n",
    "else:\n",
    "    X_train, X_test, y_train, y_test = train_test_split(x_train_features_std, y_repeated, test_size=0.15, random_state=41)\n",
    "    \n",
    "\n",
    "\n",
    "\n",
    "benchmarking_cols = {'method': [], 'accuracy': []}\n",
    "benchmarking = pd.DataFrame(benchmarking_cols)\n",
    "\n",
    "\n",
    "for i in range(len(models)):\n",
    "    benchmark_model = models[i][1](**models[i][2])\n",
    "    benchmark_model.fit(X_train, y_train)\n",
    "    y_pred = benchmark_model.predict(X_test)\n",
    "    # Assuming you have y_true (true labels) and y_pred (predicted labels)\n",
    "    accuracy = accuracy_score(y_test, y_pred)\n",
    "\n",
    "    new_row = pd.DataFrame({'method': [models[i][0]], 'accuracy': [accuracy]})\n",
    "    benchmarking = pd.concat([benchmarking,new_row])\n",
    "\n",
    "\n",
    "pd.set_option('display.float_format', '{:.2f}'.format)\n",
    "\n",
    "print(\"Out of distribution?:\", do_out_of_distribution)\n",
    "benchmarking_out_distr = benchmarking.rename(columns = {\"accuracy\":\"out-distr. acc\"})\n",
    "benchmarking"
   ]
  },
  {
   "cell_type": "markdown",
   "id": "001fbd36",
   "metadata": {},
   "source": [
    "# Semi-Supervised Anomaly Detection\n",
    "Let's try PCA-based anomaly scoring learned from the training set -- treating all of it as a \"known\" class -- to identify the most likely new / anomalous patterns in the test set that are not represented in the training set. We will use 50 major principal components for this approach.\n",
    "\n",
    "PCA anomaly scoring equation:\n",
    "$$ \\sum \\limits_{i=1}^p \\dfrac{y_i^2}{\\lambda_i} = \\dfrac{y_1 ^2}{\\lambda_1} + \\dfrac{y_2 ^2}{\\lambda_2} + \\dots + \\dfrac{y_p ^2}{\\lambda_p}$$\n",
    "\n",
    "The higher the score, the more it diverges from the rest of the dataset."
   ]
  },
  {
   "cell_type": "code",
   "execution_count": null,
   "id": "99f57be4",
   "metadata": {},
   "outputs": [],
   "source": [
    "pca_model = PCA(n_components=50) #can't use all components here bc of the huge dimensionality\n",
    "x_train_pca = pca_model.fit_transform(x_train_features_std)\n",
    "x_test_pca = pca_model.transform(x_test_features_std)\n",
    "\n",
    "anomaly_scores_train = np.sum( (x_train_pca ** 2) / pca_model.explained_variance_, axis=1)\n",
    "anomaly_scores_test = np.sum( (x_test_pca ** 2) / pca_model.explained_variance_, axis=1)"
   ]
  },
  {
   "cell_type": "code",
   "execution_count": null,
   "id": "29bd77e5",
   "metadata": {},
   "outputs": [],
   "source": [
    "sns.histplot(data=anomaly_scores_train, color=color_palette[0], label='Training', stat='density')\n",
    "sns.histplot(data=anomaly_scores_test, color=color_palette[1], label='Testing', stat='density')\n",
    "\n",
    "# Add labels and legend\n",
    "plt.xlabel('Anomaly Scores')\n",
    "plt.ylabel('Density')\n",
    "plt.title('Anomaly Detection (50 Major Principal Components)')\n",
    "plt.legend()\n",
    "\n",
    "# Show the plot\n",
    "plt.show()"
   ]
  },
  {
   "cell_type": "code",
   "execution_count": null,
   "id": "721758f7",
   "metadata": {},
   "outputs": [],
   "source": [
    "# Extract anomaly indices by examining highest scores\n",
    "# From our analysis, we predict 6 unknown anomalies present in the testing set (18 segmented samples)\n",
    "anomaly_idxs = np.argsort(anomaly_scores_test)[::-1]\n",
    "anomaly_idxs = np.unique(np.floor(anomaly_idxs / 3)[:18]).astype(int)"
   ]
  },
  {
   "cell_type": "markdown",
   "id": "90eac294",
   "metadata": {},
   "source": [
    "# Create Test Set Predictions (Cases 178-223)\n",
    "We will now construct a dataframe of Cases 178-223, the 46 signals in the testing set. We will initialize this in the format from the PHM AP 2023 Data Challenge:\n",
    "\n",
    "- Column 1 \"idx\": Case number\n",
    "- Column 2 \"task1\": Binary classification (0 for normal, 1 for abnormal)\n",
    "- Column 3 \"task2\": Fault Classification (0 for normal, 1 for unknown anomaly, 2 for bubble fault, 3 for SV fault)\n",
    "- Column 4 \"task3\": Bubble fault location (1-8 possible locations, 0 if not a bubble fault)\n",
    "- Column 5 \"task4\": SV fault location (1-4 possible locations, 0 if not a SV fault)\n",
    "- Column 6 \"task5\": SV opening ratio percentage (100 for normal, between 0 and 100 for SV faults)"
   ]
  },
  {
   "cell_type": "code",
   "execution_count": null,
   "id": "5df50122",
   "metadata": {},
   "outputs": [],
   "source": [
    "# Initialize test submission dataframe\n",
    "case_numbers = range(178, 224)\n",
    "\n",
    "initial_preds = np.zeros(len(x_test)).astype(np.int64)\n",
    "initial_sv_preds = 100*np.ones(len(x_test)).astype(np.int64)\n",
    "\n",
    "initial_data = {'id': case_numbers, 'task1': initial_preds, \n",
    "     'task2': initial_preds, 'task3': initial_preds,\n",
    "     'task4': initial_preds, 'task5': initial_sv_preds}\n",
    "\n",
    "test_cases_df = pd.DataFrame(data=initial_data, dtype=np.int64)\n",
    "\n",
    "# Assign unknown anomalies in respective columns\n",
    "unknowns = initial_preds\n",
    "unknowns[anomaly_idxs[:6]] = 1 # setting 6 unknown anomalies\n",
    "\n",
    "test_cases_df['task1'] = unknowns\n",
    "test_cases_df['task2'] = unknowns"
   ]
  },
  {
   "cell_type": "code",
   "execution_count": null,
   "id": "228140a0",
   "metadata": {},
   "outputs": [],
   "source": [
    "# Filter out unknowns for rest of analysis\n",
    "test_cases_filtered_df = test_cases_df[test_cases_df['task2'] != 1]\n",
    "\n",
    "# Will merge unknowns_df back in final submission\n",
    "unknowns_df = test_cases_df[test_cases_df['task2'] == 1]\n",
    "unknowns_df # prints out unknown anomalies"
   ]
  },
  {
   "cell_type": "markdown",
   "id": "31a3d545",
   "metadata": {},
   "source": [
    "# High-Level Predictions on Test Set (Normal = 0, Solenoid = 1, Bubble = 2)\n",
    "Now that we have filtered out the unknown anomalies, we can proceed with the next task: high-level classifications for the known fault types. For the purpose of our code here, SV faults have a class label of 1, but we will need to correct this for the final submission dataframe (where SV faults have a label of 3 in \"task2\"). First, we will need to triple our filtered test cases dataframe to process it with the rest of the analysis. We will then use a Random Forest classifier to make these predictions. "
   ]
  },
  {
   "cell_type": "code",
   "execution_count": null,
   "id": "c5b1202a",
   "metadata": {},
   "outputs": [],
   "source": [
    "# Triple the test dataframe\n",
    "triple_df = pd.DataFrame(np.repeat(test_cases_filtered_df.values, 3, axis=0))\n",
    "triple_df.columns = test_cases_filtered_df.columns\n",
    "\n",
    "# Filter out unknown anomalies from corrupting the test feature set\n",
    "# We use the 'task2' column (where it equals 1) for this\n",
    "x_test_features_filtered = x_test_features_std[np.repeat(test_cases_df['task2'] != 1, 3)]\n",
    "\n",
    "clf = RandomForestClassifier()\n",
    "clf.fit(x_train_features_std, y_repeated)\n",
    "yhat_test = clf.predict(x_test_features_filtered)\n",
    "\n",
    "# Fill in tripled df with the test predictions\n",
    "triple_df['task1'] = (yhat_test >= 1).astype(int) # for binary (abnormal is 1)\n",
    "triple_df['task2'] = yhat_test # for multi-class\n",
    "\n",
    "#Correct SV faults from yhat_test (remapping all the 1's to equal 3)\n",
    "triple_df['task2'] = triple_df['task2'].map({0:0, 1:3, 2:2})"
   ]
  },
  {
   "cell_type": "markdown",
   "id": "3ae33bd7",
   "metadata": {},
   "source": [
    "Interestingly, we see some cases where there is segment-to-segment disagreement in the multi-class classification task. Notably, Cases 199, 205, 211 tend to be predicted as SV faults according to their first segments, but are predicted as normal for the latter two segments. This seems to be a consistent finding for the borderline SV cases in our analysis. What we will do is to \"correct\" this dataframe by applying the following rule: if any of the 3 segments is predicted as a SV fault, then they will all carry this prediction (so that their indices will still be carried forward for the subsequent location + ratio analysis)."
   ]
  },
  {
   "cell_type": "code",
   "execution_count": null,
   "id": "3ad10b86",
   "metadata": {},
   "outputs": [],
   "source": [
    "triple_corrected_df = triple_df\n",
    "\n",
    "# iterating through all test cases\n",
    "for idx in range(178,224):\n",
    "    # temporary table of the 3 segments per case: check if any of them have 'task2' = 3\n",
    "    temp_table = triple_corrected_df[triple_df['id'] == idx]\n",
    "    if 3 in temp_table['task2'].values:\n",
    "        # repeat vals for all 3 segments\n",
    "        vals = np.array([idx, 1, 3, 0, 0, 100])\n",
    "        triple_corrected_df[triple_df['id'] == idx] = np.tile(vals, (3, 1))\n",
    "\n",
    "# Print what we have so far \n",
    "print(triple_corrected_df.to_string())"
   ]
  },
  {
   "cell_type": "markdown",
   "id": "ce2cecfc",
   "metadata": {},
   "source": [
    "# Solenoid Location Predictions\n",
    "First, we will evaluate how well we predict solenoid valve faults for spacecraft 1 using training dataset only. Here, it is important to note that the \"test\" variable names are referring to a hold-out validation set. Once again, we can toggle on/off out-of-distribution validation versus a random hold-out set. We will use a cross-validated logistic regression (<b>penalized for sparsity</b>) for improved accuracy."
   ]
  },
  {
   "cell_type": "code",
   "execution_count": null,
   "id": "9146d3f8",
   "metadata": {},
   "outputs": [],
   "source": [
    "do_out_of_distribution = True\n",
    "\n",
    "if do_out_of_distribution == True:\n",
    "    train_idxs = (triple_labels['Condition'] == 1) & (triple_labels['Spacecraft#'] != 1)\n",
    "    test_idxs = (triple_labels['Condition'] == 1) & (triple_labels['Spacecraft#'] == 1)\n",
    "\n",
    "    sv_train_df = triple_labels[train_idxs]\n",
    "    x_train_sv = x_train_features_std[train_idxs, :]\n",
    "    y_train_sv = np.argmin(sv_train_df.iloc[:, 3:7].values, axis=1)\n",
    "\n",
    "    sv_test_df = triple_labels[test_idxs]\n",
    "    x_test_sv = x_train_features_std[test_idxs, :]\n",
    "    y_test_sv = np.argmin(sv_test_df.iloc[:, 3:7].values, axis=1)\n",
    "\n",
    "else:\n",
    "    train_idxs = triple_labels['Condition'] == 1\n",
    "    sv_train_df = triple_labels[train_idxs]\n",
    "    \n",
    "    x_sv = x_train_features_std[train_idxs, :]\n",
    "    y_sv = np.argmin(sv_train_df.iloc[:, 3:7].values, axis=1)\n",
    "    x_train_sv, x_test_sv, y_train_sv, y_test_sv = train_test_split(x_sv, y_sv, test_size=0.3)"
   ]
  },
  {
   "cell_type": "code",
   "execution_count": null,
   "id": "de884bd3",
   "metadata": {},
   "outputs": [],
   "source": [
    "# Classification results for SV fault locations\n",
    "clf = LogisticRegressionCV(penalty='l1', solver='liblinear', max_iter=2000)\n",
    "clf.fit(x_train_sv, y_train_sv)\n",
    "yhat_test_sv = clf.predict(x_test_sv)\n",
    "\n",
    "print(classification_report(y_test_sv+1, yhat_test_sv+1))"
   ]
  },
  {
   "cell_type": "markdown",
   "id": "6919c1b8",
   "metadata": {},
   "source": [
    "Now that we have demonstrated success in the training set, let's train the LogisticRegressionCV model on the entire training dataset's examples of SV faults to make our predictions on the testing set."
   ]
  },
  {
   "cell_type": "code",
   "execution_count": null,
   "id": "a179c3bc",
   "metadata": {},
   "outputs": [],
   "source": [
    "# Index the solenoid training and predicted ones in test\n",
    "train_idxs = triple_labels['Condition'] == 1 # we only want to use SV faults\n",
    "test_idxs = triple_corrected_df['task2'] == 3\n",
    "\n",
    "x_train_sv = x_train_features_std[train_idxs, :]\n",
    "x_test_sv = x_test_features_filtered[test_idxs, :]\n",
    "\n",
    "# Prepare labels\n",
    "sv_train_df = triple_labels[train_idxs]\n",
    "y_train_sv = np.argmin(sv_train_df.iloc[:, 3:7].values, axis=1) # gives the location of the SV faults\n",
    "\n",
    "# Make Predictions\n",
    "clf = LogisticRegressionCV(penalty='l1', solver='liblinear')\n",
    "clf.fit(x_train_sv, y_train_sv)\n",
    "yhat_test_sv = clf.predict(x_test_sv) + 1 # obtains SV locations without zero indexing\n",
    "\n",
    "# Print number of nonzero terms\n",
    "print('Number of nonzero coefficients (not counting intercept): {}'.format(np.sum(clf.coef_ != 0)))"
   ]
  },
  {
   "cell_type": "code",
   "execution_count": null,
   "id": "e6d09e42",
   "metadata": {},
   "outputs": [],
   "source": [
    "triple_corrected_df['task4'][test_idxs] = yhat_test_sv\n",
    "\n",
    "# Print what we have so far\n",
    "print(triple_corrected_df.to_string())"
   ]
  },
  {
   "cell_type": "markdown",
   "id": "590740f2",
   "metadata": {},
   "source": [
    "# Solenoid Ratio Regression Prediction\n",
    "\n",
    "Once again, we will first evaluate the performance on the training set with a hold-out validation set (out-of-distribution toggle still available)."
   ]
  },
  {
   "cell_type": "code",
   "execution_count": null,
   "id": "da504f58",
   "metadata": {},
   "outputs": [],
   "source": [
    "do_out_of_distribution = True\n",
    "\n",
    "if do_out_of_distribution == True:\n",
    "    train_idxs = (triple_labels['Condition'] == 1) & (triple_labels['Spacecraft#'] != 1)\n",
    "    test_idxs = (triple_labels['Condition'] == 1) & (triple_labels['Spacecraft#'] == 1)\n",
    "\n",
    "    sv_train_df = triple_labels[train_idxs]\n",
    "    x_train_ratio = x_train_features_std[train_idxs, :]\n",
    "    y_train_ratio = np.min(sv_train_df.iloc[:, 3:7].values, axis=1)\n",
    "\n",
    "    sv_test_df = triple_labels[test_idxs]\n",
    "    x_test_ratio = x_train_features_std[test_idxs, :]\n",
    "    y_test_ratio = np.min(sv_test_df.iloc[:, 3:7].values, axis=1)\n",
    "\n",
    "else:\n",
    "    train_idxs = triple_labels['Condition'] == 1\n",
    "    sv_train_df = triple_labels[train_idxs]\n",
    "    \n",
    "    x_ratio = x_train_features_std[train_idxs, :]\n",
    "    y_ratio = np.min(sv_train_df.iloc[:, 3:7].values, axis=1)\n",
    "    x_train_ratio, x_test_ratio, y_train_ratio, y_test_ratio = train_test_split(x_ratio, y_ratio, test_size=0.10, random_state=42)"
   ]
  },
  {
   "cell_type": "markdown",
   "id": "730c7373",
   "metadata": {},
   "source": [
    "## Plots for SV Ratio Regression\n",
    "We will include some interesting regression plots for the hardest task, predicting the SV ratios. First, we will have a comparison between LASSO and XGBoost based on training set performance. Then, we will show the impact the regularization has on the sparsity of the model as well as its prediction accuracy. Ignore all warning messages on convergence as before."
   ]
  },
  {
   "cell_type": "code",
   "execution_count": null,
   "id": "1e45856b",
   "metadata": {},
   "outputs": [],
   "source": [
    "lasso_regressor = LassoCV(max_iter=3000)\n",
    "lasso_regressor.fit(x_train_ratio, y_train_ratio)\n",
    "lasso_yhat = lasso_regressor.predict(x_test_ratio)\n",
    "lasso_residuals = lasso_yhat - y_test_ratio\n",
    "\n",
    "xgb_regressor = XGBRegressor()\n",
    "xgb_regressor.fit(x_train_ratio, y_train_ratio)\n",
    "xgb_yhat = xgb_regressor.predict(x_test_ratio)\n",
    "xgb_residuals = xgb_yhat - y_test_ratio\n",
    "\n",
    "# put in dataframe for seaborn plot\n",
    "residual_df = pd.DataFrame({'LASSO (λ = {:.3f})'.format(lasso_regressor.alpha_): lasso_residuals,\n",
    "                           'XGBoost': xgb_residuals})\n",
    "\n",
    "residual_plot = sns.displot(data=residual_df, kind='kde',\n",
    "                            color=[color_palette[0], color_palette[1]], common_norm=False, fill=True)\n",
    "\n",
    "# Add labels and legend\n",
    "plt.xlabel('Opening Ratio Error (%)')\n",
    "plt.ylabel('Density')\n",
    "plt.title('Spacecraft 1 SV Ratio Residuals (Predicted - Actual)')\n",
    "sns.move_legend(residual_plot, \"upper left\", bbox_to_anchor=(0.2, 0.9))\n",
    "\n",
    "# Show the plot\n",
    "plt.tight_layout()\n",
    "plt.show()"
   ]
  },
  {
   "cell_type": "code",
   "execution_count": null,
   "id": "194379b0",
   "metadata": {},
   "outputs": [],
   "source": [
    "lambdas = np.logspace(-4, 1, 100)\n",
    "\n",
    "# Initialize lists to store results\n",
    "nonzero_terms = []\n",
    "mse_values = []\n",
    "\n",
    "# Iterate through different alpha values\n",
    "for λ in lambdas:\n",
    "    lasso = Lasso(alpha=λ, max_iter=3000)\n",
    "    lasso.fit(x_train_ratio, y_train_ratio)\n",
    "    y_pred = lasso.predict(x_test_ratio)\n",
    "    \n",
    "    # Calculate the number of nonzero terms in the coefficients\n",
    "    num_nonzero = np.sum(lasso.coef_ != 0)\n",
    "    \n",
    "    # Calculate MSE and store results\n",
    "    mse = np.mean((y_test_ratio - y_pred) ** 2)\n",
    "    nonzero_terms.append(num_nonzero)\n",
    "    mse_values.append(mse)\n",
    "\n",
    "# Create a figure with two y-axes\n",
    "fig, ax1 = plt.subplots(figsize=(10, 6))\n",
    "\n",
    "# Plot the number of nonzero terms on the first y-axis\n",
    "ax1.plot(lambdas, nonzero_terms, color=color_palette[0], label='Nonzero Terms', linewidth=2)\n",
    "ax1.set_xlabel('Regularization Parameter (λ)')\n",
    "ax1.set_ylabel('Number of Nonzero Terms', color=color_palette[0])\n",
    "ax1.tick_params(axis='y', labelcolor=color_palette[0])\n",
    "ax1.set_xscale('log')\n",
    "\n",
    "# Create a second y-axis\n",
    "ax2 = ax1.twinx()\n",
    "\n",
    "# Plot the MSE on the second y-axis\n",
    "ax2.plot(lambdas, mse_values, color=color_palette[1], label='MSE', linewidth=2)\n",
    "ax2.set_ylabel('Mean Squared Error (MSE)', color=color_palette[1])\n",
    "ax2.tick_params(axis='y', labelcolor=color_palette[1])\n",
    "\n",
    "# Title and grid\n",
    "plt.title('LASSO Regression for SV Ratio Prediction for Spacecraft 1')\n",
    "\n",
    "# Show the plot\n",
    "plt.show()"
   ]
  },
  {
   "cell_type": "markdown",
   "id": "d446329f",
   "metadata": {},
   "source": [
    "Now we will use the entire training set to predict the SV ratios for the testing set."
   ]
  },
  {
   "cell_type": "code",
   "execution_count": null,
   "id": "d53aad17",
   "metadata": {},
   "outputs": [],
   "source": [
    "# Index the solenoid training and predicted ones in test\n",
    "train_idxs = triple_labels['Condition'] == 1\n",
    "test_idxs = triple_corrected_df['task2'] == 3\n",
    "\n",
    "x_train_ratio = x_train_features_std[train_idxs, :]\n",
    "x_test_ratio = x_test_features_filtered[test_idxs, :]\n",
    "\n",
    "# Prepare labels\n",
    "sv_train_df = triple_labels[train_idxs]\n",
    "y_train_ratio = np.min(sv_train_df.iloc[:, 3:7], axis=1)\n",
    "\n",
    "# Make Predictions\n",
    "regressor = LassoCV(max_iter=2000)\n",
    "regressor.fit(x_train_ratio, y_train_ratio)\n",
    "yhat_test_ratio = regressor.predict(x_test_ratio)\n",
    "\n",
    "# Print number of nonzero terms\n",
    "print('Number of nonzero coefficients (not counting intercept): {}'.format(np.sum(regressor.coef_ != 0)))"
   ]
  },
  {
   "cell_type": "code",
   "execution_count": null,
   "id": "29092c6a",
   "metadata": {},
   "outputs": [],
   "source": [
    "triple_corrected_df['task5'][test_idxs] = yhat_test_ratio\n",
    "\n",
    "# Print what we have so far\n",
    "print(triple_corrected_df.to_string())"
   ]
  },
  {
   "cell_type": "markdown",
   "id": "e1f1965e",
   "metadata": {},
   "source": [
    "# Bubble Location Predictions\n",
    "\n",
    "First, we will evaluate how well we do on Spacecraft 1 again, and then proceed to make predictions on the testing set. We will use the fact that the last 24 samples on labels.csv are the bubble faults below."
   ]
  },
  {
   "cell_type": "code",
   "execution_count": null,
   "id": "25a86d82",
   "metadata": {},
   "outputs": [],
   "source": [
    "# Get bubble faults from labels\n",
    "df_bubble = triple_labels[-24*3:].iloc[:, 7:]\n",
    "df_bubble = df_bubble.replace({'No': 0, 'Yes': 1})\n",
    "x_train_bubble = x_train_features_std[-24*3:, :]\n",
    "y_train_bubble = np.argmax(df_bubble.values, axis=1) \n",
    "\n",
    "#Use Spacecraft 2 and 3 to predict Spacecraft 1\n",
    "x_test_bubble = x_train_bubble[:8*3, :]\n",
    "y_test_bubble = y_train_bubble[:8*3] \n",
    "x_train_bubble = x_train_bubble[-16*3:, :]\n",
    "y_train_bubble = y_train_bubble[-16*3:] \n",
    "\n",
    "clf = LogisticRegressionCV(penalty='l1', solver='liblinear')\n",
    "clf.fit(x_train_bubble, y_train_bubble)\n",
    "yhat_test_bubble = clf.predict(x_test_bubble)\n",
    "\n",
    "print(classification_report(y_test_bubble + 1, yhat_test_bubble + 1))"
   ]
  },
  {
   "cell_type": "code",
   "execution_count": null,
   "id": "04bec5bc",
   "metadata": {},
   "outputs": [],
   "source": [
    "# Index the bubble training and predicted ones in test\n",
    "train_idxs = triple_labels['Condition'] == 2\n",
    "test_idxs = triple_corrected_df['task2'] == 2\n",
    "\n",
    "x_train_bubble = x_train_features_std[train_idxs, :]\n",
    "x_test_bubble = x_test_features_filtered[test_idxs, :]\n",
    "\n",
    "# Prepare labels\n",
    "df_bubble = triple_labels[-24*3:].iloc[:, 7:] \n",
    "df_bubble = df_bubble.replace({'No': 0, 'Yes': 1})\n",
    "y_train_bubble = np.argmax(df_bubble.values, axis=1)\n",
    "\n",
    "clf = LogisticRegressionCV(penalty='l1', solver='liblinear')\n",
    "clf.fit(x_train_bubble, y_train_bubble)\n",
    "yhat_test_bubble = clf.predict(x_test_bubble) + 1# obtains bubble locations without zero indexing\n",
    "\n",
    "# Print number of nonzero terms\n",
    "print('Number of nonzero coefficients (not counting intercept): {}'.format(np.sum(clf.coef_ != 0)))"
   ]
  },
  {
   "cell_type": "code",
   "execution_count": null,
   "id": "80b99f15",
   "metadata": {},
   "outputs": [],
   "source": [
    "# Segment-wise predictions\n",
    "triple_corrected_df['task3'][test_idxs] = yhat_test_bubble\n",
    "print(triple_corrected_df.to_string())"
   ]
  },
  {
   "cell_type": "code",
   "execution_count": null,
   "id": "f3dff065",
   "metadata": {},
   "outputs": [],
   "source": [
    "# Making sure that the valve opening ratio predictions lie between 0 and 100\n",
    "triple_corrected_df['task5'] = triple_corrected_df['task5'].apply(lambda x: min(max(x, 0), 100))\n",
    "print(triple_corrected_df.to_string())"
   ]
  },
  {
   "cell_type": "code",
   "execution_count": null,
   "id": "ae922298",
   "metadata": {},
   "outputs": [],
   "source": [
    "# Creating the final submission object\n",
    "final_df = pd.DataFrame(columns = triple_corrected_df.columns)\n",
    "\n",
    "# We utilized the 1st segment's predictions\n",
    "# NOTE: One puzzling feature of our analysis regards when our models’ predictions for each segment of the data\n",
    "# were in disagreement for the faulty solenoid valve location. We learnt from the data that whenever these\n",
    "# disagreements happened, the 1st segment was disproportionately more diagnostic and we followed its predictions.\n",
    "# This is an intriguing result that we plan on exploring further in a follow up paper.\n",
    "r = 0\n",
    "for i in triple_corrected_df['id'].unique():\n",
    "    buffer = triple_corrected_df[triple_corrected_df['id'] == i]\n",
    "    final_df.loc[r] = list(buffer.iloc[0,:])\n",
    "    if buffer.iloc[0,2] == 3:\n",
    "        final_df['task5'][r] = np.mean(buffer['task5'])\n",
    "    r += 1\n",
    "\n",
    "# Making sure all of the tasks are integer values\n",
    "for t in range(1,5):\n",
    "    final_df['task' + str(t)] = final_df['task' + str(t)].astype(int)    \n",
    "final_df['id'] = final_df['id'].astype(int)    \n",
    "\n",
    "# Adding unknown anomalies to the final submission file and fixing pandas indices\n",
    "final_df = pd.concat([final_df,unknowns_df], axis=0, ignore_index=True).sort_values(by='id')\n",
    "final_df = final_df.reset_index(drop=True, inplace=False)\n",
    "\n",
    "# Final submission file\n",
    "print(final_df.to_string())"
   ]
  }
 ],
 "metadata": {
  "kernelspec": {
   "display_name": "Python 3 (ipykernel)",
   "language": "python",
   "name": "python3"
  },
  "language_info": {
   "codemirror_mode": {
    "name": "ipython",
    "version": 3
   },
   "file_extension": ".py",
   "mimetype": "text/x-python",
   "name": "python",
   "nbconvert_exporter": "python",
   "pygments_lexer": "ipython3",
   "version": "3.10.9"
  }
 },
 "nbformat": 4,
 "nbformat_minor": 5
}
